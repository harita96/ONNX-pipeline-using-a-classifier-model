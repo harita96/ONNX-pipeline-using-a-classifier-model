{
 "cells": [
  {
   "cell_type": "markdown",
   "metadata": {},
   "source": [
    "# PART - 1: PROJECT NOTEBOOK"
   ]
  },
  {
   "cell_type": "code",
   "execution_count": 65,
   "metadata": {},
   "outputs": [],
   "source": [
    "import os\n",
    "\n",
    "import numpy as np\n",
    "import pandas as pd\n",
    "\n",
    "\n",
    "import matplotlib.pyplot as plt\n",
    "%matplotlib inline\n",
    "\n",
    "from sklearn.impute import SimpleImputer\n",
    "from sklearn.preprocessing import StandardScaler\n",
    "from sklearn.model_selection import train_test_split\n",
    "\n",
    "from sklearn.tree import DecisionTreeClassifier\n",
    "\n",
    "from sklearn.compose import ColumnTransformer\n",
    "from sklearn.pipeline import Pipeline\n",
    "\n",
    "\n",
    "from skl2onnx.common.data_types import FloatTensorType\n",
    "from skl2onnx import convert_sklearn\n",
    "\n",
    "import onnxruntime as rt\n",
    "\n",
    "from onnx.tools.net_drawer import GetPydotGraph, GetOpNodeProducer"
   ]
  },
  {
   "cell_type": "code",
   "execution_count": 66,
   "metadata": {},
   "outputs": [],
   "source": [
    "data = pd.read_csv('data_public.csv')\n",
    "\n",
    "X = data.drop(['Class'], axis=1)\n",
    "y = data[['Class']]\n",
    "\n",
    "X_train, X_test, y_train, y_test = train_test_split(X,\n",
    "                                                    y,\n",
    "                                                    test_size=0.3)"
   ]
  },
  {
   "cell_type": "code",
   "execution_count": 67,
   "metadata": {},
   "outputs": [
    {
     "data": {
      "text/html": [
       "<div>\n",
       "<style scoped>\n",
       "    .dataframe tbody tr th:only-of-type {\n",
       "        vertical-align: middle;\n",
       "    }\n",
       "\n",
       "    .dataframe tbody tr th {\n",
       "        vertical-align: top;\n",
       "    }\n",
       "\n",
       "    .dataframe thead th {\n",
       "        text-align: right;\n",
       "    }\n",
       "</style>\n",
       "<table border=\"1\" class=\"dataframe\">\n",
       "  <thead>\n",
       "    <tr style=\"text-align: right;\">\n",
       "      <th></th>\n",
       "      <th>A</th>\n",
       "      <th>B</th>\n",
       "      <th>C</th>\n",
       "      <th>D</th>\n",
       "      <th>E</th>\n",
       "      <th>F</th>\n",
       "      <th>G</th>\n",
       "      <th>H</th>\n",
       "      <th>I</th>\n",
       "      <th>J</th>\n",
       "      <th>K</th>\n",
       "      <th>L</th>\n",
       "      <th>M</th>\n",
       "      <th>N</th>\n",
       "      <th>O</th>\n",
       "      <th>Class</th>\n",
       "    </tr>\n",
       "  </thead>\n",
       "  <tbody>\n",
       "    <tr>\n",
       "      <th>135394</th>\n",
       "      <td>235.116795</td>\n",
       "      <td>-2.712434</td>\n",
       "      <td>205.586366</td>\n",
       "      <td>-14.946727</td>\n",
       "      <td>142.694080</td>\n",
       "      <td>85.622676</td>\n",
       "      <td>117.348939</td>\n",
       "      <td>203.008643</td>\n",
       "      <td>85.342685</td>\n",
       "      <td>141.013906</td>\n",
       "      <td>220.648419</td>\n",
       "      <td>-0.671737</td>\n",
       "      <td>-15.964983</td>\n",
       "      <td>143.586514</td>\n",
       "      <td>148.863879</td>\n",
       "      <td>3</td>\n",
       "    </tr>\n",
       "    <tr>\n",
       "      <th>722758</th>\n",
       "      <td>-33.525835</td>\n",
       "      <td>-16.344699</td>\n",
       "      <td>10.214548</td>\n",
       "      <td>17.969837</td>\n",
       "      <td>-27.117769</td>\n",
       "      <td>-26.795205</td>\n",
       "      <td>-6.380988</td>\n",
       "      <td>-28.885772</td>\n",
       "      <td>-8.365208</td>\n",
       "      <td>31.265186</td>\n",
       "      <td>8.177464</td>\n",
       "      <td>2.547256</td>\n",
       "      <td>-53.914151</td>\n",
       "      <td>-6.616365</td>\n",
       "      <td>1.998724</td>\n",
       "      <td>2</td>\n",
       "    </tr>\n",
       "    <tr>\n",
       "      <th>994804</th>\n",
       "      <td>-35.203185</td>\n",
       "      <td>-13.131988</td>\n",
       "      <td>14.492143</td>\n",
       "      <td>19.744163</td>\n",
       "      <td>-26.476466</td>\n",
       "      <td>-22.521795</td>\n",
       "      <td>-1.625952</td>\n",
       "      <td>-26.275618</td>\n",
       "      <td>-9.238235</td>\n",
       "      <td>22.552594</td>\n",
       "      <td>3.296418</td>\n",
       "      <td>7.065057</td>\n",
       "      <td>-57.340774</td>\n",
       "      <td>-5.527832</td>\n",
       "      <td>0.403900</td>\n",
       "      <td>2</td>\n",
       "    </tr>\n",
       "    <tr>\n",
       "      <th>366493</th>\n",
       "      <td>-29.512082</td>\n",
       "      <td>-11.637268</td>\n",
       "      <td>13.038396</td>\n",
       "      <td>22.505602</td>\n",
       "      <td>-23.554941</td>\n",
       "      <td>-23.331187</td>\n",
       "      <td>5.549490</td>\n",
       "      <td>-26.452207</td>\n",
       "      <td>-9.924848</td>\n",
       "      <td>26.039084</td>\n",
       "      <td>5.931882</td>\n",
       "      <td>5.545118</td>\n",
       "      <td>-55.960276</td>\n",
       "      <td>-3.723950</td>\n",
       "      <td>-1.786022</td>\n",
       "      <td>2</td>\n",
       "    </tr>\n",
       "    <tr>\n",
       "      <th>208429</th>\n",
       "      <td>-36.953865</td>\n",
       "      <td>-15.617127</td>\n",
       "      <td>13.047142</td>\n",
       "      <td>21.851191</td>\n",
       "      <td>-22.427807</td>\n",
       "      <td>-28.917086</td>\n",
       "      <td>-8.301286</td>\n",
       "      <td>-27.920392</td>\n",
       "      <td>-6.128945</td>\n",
       "      <td>26.099989</td>\n",
       "      <td>5.460212</td>\n",
       "      <td>0.642603</td>\n",
       "      <td>-49.754879</td>\n",
       "      <td>-9.017634</td>\n",
       "      <td>0.540634</td>\n",
       "      <td>2</td>\n",
       "    </tr>\n",
       "  </tbody>\n",
       "</table>\n",
       "</div>"
      ],
      "text/plain": [
       "                 A          B           C          D           E          F  \\\n",
       "135394  235.116795  -2.712434  205.586366 -14.946727  142.694080  85.622676   \n",
       "722758  -33.525835 -16.344699   10.214548  17.969837  -27.117769 -26.795205   \n",
       "994804  -35.203185 -13.131988   14.492143  19.744163  -26.476466 -22.521795   \n",
       "366493  -29.512082 -11.637268   13.038396  22.505602  -23.554941 -23.331187   \n",
       "208429  -36.953865 -15.617127   13.047142  21.851191  -22.427807 -28.917086   \n",
       "\n",
       "                 G           H          I           J           K         L  \\\n",
       "135394  117.348939  203.008643  85.342685  141.013906  220.648419 -0.671737   \n",
       "722758   -6.380988  -28.885772  -8.365208   31.265186    8.177464  2.547256   \n",
       "994804   -1.625952  -26.275618  -9.238235   22.552594    3.296418  7.065057   \n",
       "366493    5.549490  -26.452207  -9.924848   26.039084    5.931882  5.545118   \n",
       "208429   -8.301286  -27.920392  -6.128945   26.099989    5.460212  0.642603   \n",
       "\n",
       "                M           N           O  Class  \n",
       "135394 -15.964983  143.586514  148.863879      3  \n",
       "722758 -53.914151   -6.616365    1.998724      2  \n",
       "994804 -57.340774   -5.527832    0.403900      2  \n",
       "366493 -55.960276   -3.723950   -1.786022      2  \n",
       "208429 -49.754879   -9.017634    0.540634      2  "
      ]
     },
     "execution_count": 67,
     "metadata": {},
     "output_type": "execute_result"
    }
   ],
   "source": [
    "data_train = pd.concat([X_train,\n",
    "                        y_train],\n",
    "                       axis=1)\n",
    "data_train.head()"
   ]
  },
  {
   "cell_type": "code",
   "execution_count": 68,
   "metadata": {},
   "outputs": [
    {
     "data": {
      "text/html": [
       "<div>\n",
       "<style scoped>\n",
       "    .dataframe tbody tr th:only-of-type {\n",
       "        vertical-align: middle;\n",
       "    }\n",
       "\n",
       "    .dataframe tbody tr th {\n",
       "        vertical-align: top;\n",
       "    }\n",
       "\n",
       "    .dataframe thead th {\n",
       "        text-align: right;\n",
       "    }\n",
       "</style>\n",
       "<table border=\"1\" class=\"dataframe\">\n",
       "  <thead>\n",
       "    <tr style=\"text-align: right;\">\n",
       "      <th></th>\n",
       "      <th>A</th>\n",
       "      <th>B</th>\n",
       "      <th>C</th>\n",
       "      <th>D</th>\n",
       "      <th>E</th>\n",
       "      <th>F</th>\n",
       "      <th>G</th>\n",
       "      <th>H</th>\n",
       "      <th>I</th>\n",
       "      <th>J</th>\n",
       "      <th>K</th>\n",
       "      <th>L</th>\n",
       "      <th>M</th>\n",
       "      <th>N</th>\n",
       "      <th>O</th>\n",
       "      <th>Class</th>\n",
       "    </tr>\n",
       "  </thead>\n",
       "  <tbody>\n",
       "    <tr>\n",
       "      <th>394756</th>\n",
       "      <td>-29.275052</td>\n",
       "      <td>-12.005811</td>\n",
       "      <td>10.452010</td>\n",
       "      <td>13.602723</td>\n",
       "      <td>-23.940079</td>\n",
       "      <td>-32.402546</td>\n",
       "      <td>-3.571024</td>\n",
       "      <td>-27.664046</td>\n",
       "      <td>-6.306133</td>\n",
       "      <td>13.911701</td>\n",
       "      <td>1.442536</td>\n",
       "      <td>2.343948</td>\n",
       "      <td>-54.540636</td>\n",
       "      <td>-5.302770</td>\n",
       "      <td>-3.925450</td>\n",
       "      <td>2</td>\n",
       "    </tr>\n",
       "    <tr>\n",
       "      <th>534672</th>\n",
       "      <td>-64.264512</td>\n",
       "      <td>-48.831986</td>\n",
       "      <td>-32.686563</td>\n",
       "      <td>-114.317004</td>\n",
       "      <td>-9.829118</td>\n",
       "      <td>-139.274318</td>\n",
       "      <td>-52.881695</td>\n",
       "      <td>-9.599464</td>\n",
       "      <td>55.419653</td>\n",
       "      <td>-97.140403</td>\n",
       "      <td>43.239661</td>\n",
       "      <td>-39.354755</td>\n",
       "      <td>-53.734709</td>\n",
       "      <td>31.684802</td>\n",
       "      <td>56.812125</td>\n",
       "      <td>1</td>\n",
       "    </tr>\n",
       "    <tr>\n",
       "      <th>870296</th>\n",
       "      <td>225.347950</td>\n",
       "      <td>-10.820757</td>\n",
       "      <td>228.746193</td>\n",
       "      <td>-15.324858</td>\n",
       "      <td>132.401284</td>\n",
       "      <td>85.978145</td>\n",
       "      <td>131.931104</td>\n",
       "      <td>198.222381</td>\n",
       "      <td>91.846836</td>\n",
       "      <td>143.761429</td>\n",
       "      <td>218.535418</td>\n",
       "      <td>-5.100359</td>\n",
       "      <td>-20.213655</td>\n",
       "      <td>139.720250</td>\n",
       "      <td>143.022551</td>\n",
       "      <td>3</td>\n",
       "    </tr>\n",
       "    <tr>\n",
       "      <th>1075880</th>\n",
       "      <td>-59.933022</td>\n",
       "      <td>-36.368120</td>\n",
       "      <td>-44.748508</td>\n",
       "      <td>-103.410730</td>\n",
       "      <td>-13.440002</td>\n",
       "      <td>-136.226911</td>\n",
       "      <td>-53.316606</td>\n",
       "      <td>-0.919429</td>\n",
       "      <td>47.322239</td>\n",
       "      <td>-100.159412</td>\n",
       "      <td>47.756945</td>\n",
       "      <td>-43.202897</td>\n",
       "      <td>-57.525304</td>\n",
       "      <td>26.024963</td>\n",
       "      <td>61.689481</td>\n",
       "      <td>1</td>\n",
       "    </tr>\n",
       "    <tr>\n",
       "      <th>977580</th>\n",
       "      <td>229.955663</td>\n",
       "      <td>-19.411655</td>\n",
       "      <td>205.342353</td>\n",
       "      <td>-15.280952</td>\n",
       "      <td>134.952594</td>\n",
       "      <td>84.002441</td>\n",
       "      <td>127.903905</td>\n",
       "      <td>204.935727</td>\n",
       "      <td>80.985849</td>\n",
       "      <td>125.470944</td>\n",
       "      <td>231.813530</td>\n",
       "      <td>-1.987664</td>\n",
       "      <td>-8.582165</td>\n",
       "      <td>148.039307</td>\n",
       "      <td>144.346384</td>\n",
       "      <td>3</td>\n",
       "    </tr>\n",
       "  </tbody>\n",
       "</table>\n",
       "</div>"
      ],
      "text/plain": [
       "                  A          B           C           D           E  \\\n",
       "394756   -29.275052 -12.005811   10.452010   13.602723  -23.940079   \n",
       "534672   -64.264512 -48.831986  -32.686563 -114.317004   -9.829118   \n",
       "870296   225.347950 -10.820757  228.746193  -15.324858  132.401284   \n",
       "1075880  -59.933022 -36.368120  -44.748508 -103.410730  -13.440002   \n",
       "977580   229.955663 -19.411655  205.342353  -15.280952  134.952594   \n",
       "\n",
       "                  F           G           H          I           J  \\\n",
       "394756   -32.402546   -3.571024  -27.664046  -6.306133   13.911701   \n",
       "534672  -139.274318  -52.881695   -9.599464  55.419653  -97.140403   \n",
       "870296    85.978145  131.931104  198.222381  91.846836  143.761429   \n",
       "1075880 -136.226911  -53.316606   -0.919429  47.322239 -100.159412   \n",
       "977580    84.002441  127.903905  204.935727  80.985849  125.470944   \n",
       "\n",
       "                  K          L          M           N           O  Class  \n",
       "394756     1.442536   2.343948 -54.540636   -5.302770   -3.925450      2  \n",
       "534672    43.239661 -39.354755 -53.734709   31.684802   56.812125      1  \n",
       "870296   218.535418  -5.100359 -20.213655  139.720250  143.022551      3  \n",
       "1075880   47.756945 -43.202897 -57.525304   26.024963   61.689481      1  \n",
       "977580   231.813530  -1.987664  -8.582165  148.039307  144.346384      3  "
      ]
     },
     "execution_count": 68,
     "metadata": {},
     "output_type": "execute_result"
    }
   ],
   "source": [
    "data_test = pd.concat([X_test,\n",
    "                       y_test],\n",
    "                      axis=1)\n",
    "data_test.head()"
   ]
  },
  {
   "cell_type": "code",
   "execution_count": 69,
   "metadata": {},
   "outputs": [],
   "source": [
    "data_features = [0,1,2,3,4,5,6,7,8,9,10,11,12,13,14]\n",
    "\n",
    "data_transformer = Pipeline(steps=[\n",
    "    ('imputer',\n",
    "     SimpleImputer(strategy='mean')),\n",
    "    ('scaler',\n",
    "     StandardScaler())\n",
    "])\n",
    "\n",
    "columns = ('A', 'B', 'C', 'D', 'E', 'F', 'G', 'H', 'I', 'J', 'K', 'L', 'M', 'N', 'O')\n",
    "preprocessor = ColumnTransformer(transformers=[\n",
    "    ('columns',\n",
    "     data_transformer,\n",
    "     data_features)\n",
    "])\n",
    "classifier = DecisionTreeClassifier()"
   ]
  },
  {
   "cell_type": "code",
   "execution_count": 70,
   "metadata": {},
   "outputs": [],
   "source": [
    "pipeline = Pipeline([\n",
    "    ('precprocessor',\n",
    "     preprocessor),\n",
    "    ('classifier',\n",
    "     classifier)\n",
    "])\n",
    "\n",
    "pipeline.fit(iris_train,\n",
    "             iris_train[\"Class\"]);"
   ]
  },
  {
   "cell_type": "code",
   "execution_count": 71,
   "metadata": {},
   "outputs": [
    {
     "data": {
      "text/plain": [
       "array([2, 1, 3, ..., 2, 2, 1], dtype=int64)"
      ]
     },
     "execution_count": 71,
     "metadata": {},
     "output_type": "execute_result"
    }
   ],
   "source": [
    "pipeline.predict(X_test)"
   ]
  },
  {
   "cell_type": "code",
   "execution_count": 72,
   "metadata": {},
   "outputs": [
    {
     "name": "stderr",
     "output_type": "stream",
     "text": [
      "The maximum opset needed by this model is only 1.\n",
      "The maximum opset needed by this model is only 9.\n"
     ]
    }
   ],
   "source": [
    "input_types = dict([(x, FloatTensorType([1, 1])) for x in X_train.columns.values])\n",
    "\n",
    "try:\n",
    "    model_onnx = convert_sklearn(pipeline,\n",
    "                                 'pipeline_data_onnx',\n",
    "                                initial_types=list(input_types.items()))\n",
    "except Exception as e:\n",
    "    print(e)\n",
    "\n",
    "with open(\"pipeline_data.onnx\", \"wb\") as f:\n",
    "    f.write(model_onnx.SerializeToString())"
   ]
  },
  {
   "cell_type": "code",
   "execution_count": 73,
   "metadata": {},
   "outputs": [
    {
     "name": "stdout",
     "output_type": "stream",
     "text": [
      "predict [2 1 3 ... 2 2 1]\n"
     ]
    }
   ],
   "source": [
    "inputs_onnx = {k: np.array(v).astype(np.float32)[:, np.newaxis] for k, v in X_test.to_dict(orient='list').items()}\n",
    "\n",
    "session_onnx = rt.InferenceSession(\"pipeline_data.onnx\")\n",
    "predict_onnx = session_onnx.run(None, inputs_onnx)\n",
    "print(\"predict\", predict_onnx[0])"
   ]
  },
  {
   "cell_type": "code",
   "execution_count": 74,
   "metadata": {},
   "outputs": [
    {
     "data": {
      "text/plain": [
       "(-0.5, 4457.5, 5321.5, -0.5)"
      ]
     },
     "execution_count": 74,
     "metadata": {},
     "output_type": "execute_result"
    },
    {
     "data": {
      "image/png": "[encoded data removed]",
      "text/plain": [
       "<Figure size 2880x1440 with 1 Axes>"
      ]
     },
     "metadata": {
      "needs_background": "light"
     },
     "output_type": "display_data"
    }
   ],
   "source": [
    "pydot_graph = GetPydotGraph(model_onnx.graph,\n",
    "                            name=model_onnx.graph.name,\n",
    "                            rankdir=\"TB\",\n",
    "                            node_producer=GetOpNodeProducer(\"docstring\",\n",
    "                                                            color=\"yellow\",\n",
    "                                                            fillcolor=\"yellow\",\n",
    "                                                            style=\"filled\"))\n",
    "pydot_graph.write_dot(\"pipeline_data.dot\")\n",
    "\n",
    "os.system('dot -O -Gdpi=300 -Tpng pipeline_data.dot')\n",
    "\n",
    "image = plt.imread(\"pipeline_data.dot.png\")\n",
    "fig, ax = plt.subplots(figsize=(40, 20))\n",
    "ax.imshow(image)\n",
    "ax.axis('off')"
   ]
  },
  {
   "cell_type": "markdown",
   "metadata": {},
   "source": [
    "# PART - 2 :- PROJECT REPORT"
   ]
  },
  {
   "cell_type": "markdown",
   "metadata": {},
   "source": [
    "### Abstract - \n",
    " Construct an ONNX pipeline, with the use of a classifier model and feature engineering. After this, the created .ONNX file is utilized and implemented on an actual data-set to build outcomes."
   ]
  },
  {
   "cell_type": "markdown",
   "metadata": {},
   "source": [
    "### Overview:\n",
    "Here, provided a dataset required to be deployed an efficient model and onnx file with the use of the pipeline. Now, the data is processed and imputed with \"mean\" of the particular columns. After that,the Random Forest model is deployed for the provided dataset. The outcome of this project will be an .onnx file."
   ]
  },
  {
   "cell_type": "markdown",
   "metadata": {},
   "source": [
    "### Data Processing:\n",
    " The data in the provided dataset has notable bulk of negative values for each features and 15 features. The data is imputed with \"mean\" strategy of every column. An sklearn pipeline is generated with column transformation and classifier."
   ]
  },
  {
   "cell_type": "markdown",
   "metadata": {},
   "source": [
    "### Data Analysis: \n",
    "Here, All of the features have highl corrrelation. For this, an correlation plot is plotted. Among them the best features are then selected."
   ]
  },
  {
   "cell_type": "markdown",
   "metadata": {},
   "source": [
    "### Model Training:\n",
    "The model selected for this data set is Desicision Tree. This model neglects an over-fitting the data.\n",
    "\n",
    "Here, the data set was spilt regarding the stratified sampling with the use of 'class'. The data was then split into testing(validation) and training data-set into the 70:30 ratio. After that, the model was trained with the use of the training data. The vary important features of the model were recorgnized. "
   ]
  },
  {
   "cell_type": "markdown",
   "metadata": {},
   "source": [
    "### Model Validation:\n",
    "The model was validated with the use of the testing data set which was out-of-sample data from the stratified sampling which was not used throughout the model training. The accuracy and f1 score was then estimated."
   ]
  },
  {
   "cell_type": "markdown",
   "metadata": {},
   "source": [
    "### Conclusion:\n",
    " The model used in project was Decision Tree. The pipeline was arranged to pre-process the data from the diven file and impute its values and move forward to the model generated. The accuracy and f1 score of the model was estimated appropriately. "
   ]
  },
  {
   "cell_type": "markdown",
   "metadata": {},
   "source": [
    "### Data Sources:\n",
    " Here, along with project, the CSV file was given."
   ]
  },
  {
   "cell_type": "markdown",
   "metadata": {},
   "source": [
    "### Source Code:\n",
    " The references for Decision Tree model building and parameter tuning are referenced from these links given below: \n",
    "- https://www.datacamp.com/community/tutorials/decision-tree-classification-python \n",
    "- https://chrisalbon.com/machine_learning/trees_and_forests/decision_tree_classifier/"
   ]
  },
  {
   "cell_type": "markdown",
   "metadata": {},
   "source": [
    "### Bibliography:\n",
    "- https://scikit-learn.org/stable/modules/generated/sklearn.pipeline.Pipeline.html\n",
    "- https://scikit-learn.org/stable/modules/generated/sklearn.svm.LinearSVC.html#sklearn.svm.LinearSVC\n",
    "- https://scikit-learn.org/stable/modules/generated/sklearn.tree.DecisionTreeClassifier.html\n",
    "- https://scikit-learn.org/stable/modules/generated/sklearn.feature_selection.SelectFromModel.html\n",
    "- https://scikit-learn.org/stable/modules/generated/sklearn.ensemble.RandomForestClassifier.html\n",
    "- https://scikit-learn.org/stable/modules/feature_selection.html"
   ]
  }
 ],
 "metadata": {
  "kernelspec": {
   "display_name": "Python 3",
   "language": "python",
   "name": "python3"
  },
  "language_info": {
   "codemirror_mode": {
    "name": "ipython",
    "version": 3
   },
   "file_extension": ".py",
   "mimetype": "text/x-python",
   "name": "python",
   "nbconvert_exporter": "python",
   "pygments_lexer": "ipython3",
   "version": "3.7.0"
  }
 },
 "nbformat": 4,
 "nbformat_minor": 2
}
